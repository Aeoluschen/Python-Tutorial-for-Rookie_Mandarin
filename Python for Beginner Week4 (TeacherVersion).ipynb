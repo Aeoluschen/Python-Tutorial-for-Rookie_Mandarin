{
 "cells": [
  {
   "cell_type": "markdown",
   "metadata": {},
   "source": [
    "# Python 初學 Week4 for 迴圈與函式"
   ]
  },
  {
   "cell_type": "markdown",
   "metadata": {},
   "source": [
    "# 0. try/except \n",
    "\n",
    "在程式語言中，如果遇到錯誤，程式就會停止，在python 中可以利用try/except 來做預防，如果有遇到錯誤會執行except下的程式碼，他的語法如下:\n",
    "    \n",
    "    try:\n",
    "        要嘗試的程式碼\n",
    "    except:\n",
    "        如果嘗試錯誤會跳出的訊息\n"
   ]
  },
  {
   "cell_type": "code",
   "execution_count": null,
   "metadata": {},
   "outputs": [],
   "source": []
  },
  {
   "cell_type": "markdown",
   "metadata": {},
   "source": [
    "## 1. For loop \n",
    "\n",
    "在程式語言中，當我們要進行一連串相關的運算時，我們常會使用迴圈去告訴電腦要跑多少次，每次跑的條件是什麼。那for 迴圈的用法如下:  \n",
    "        \n",
    "    for 變數(i) in i變數變換的區間 :\n",
    "    (Tab縮排) 進行的運算\n",
    "            \n",
    "舉個簡單的例子  \n",
    "\n",
    "    for i in range(1,n):\n",
    "        print(f'這是第{i}次運算')\n",
    "\n",
    "會讓 i 從 1 開始，進行迴圈內的運算，做完一次之後 i 會加1變成2，再進行迴圈內的運算直到 i 不在 1~(n-1) 之間\n",
    "其中 range 的使用如下:\n",
    "    \n",
    "    range(a, b) #會給出[a, b)之間 , 每隔 1 的值，a,b 皆要求為int\n",
    "    range(a, b, c) #會給出[a, b)之間, 遞增(或遞減) c 的值，a, b, c 皆要求為int\n",
    "\n",
    "**這裡的range是一個名為range的物件(暫時不用理他)，一般range皆用在for迴圈中**"
   ]
  },
  {
   "cell_type": "code",
   "execution_count": 6,
   "metadata": {},
   "outputs": [
    {
     "name": "stdout",
     "output_type": "stream",
     "text": [
      "這是第1次運算\n",
      "這是第2次運算\n",
      "這是第3次運算\n",
      "這是第4次運算\n",
      "4\n",
      "這是第1次運算\n",
      "這是第2次運算\n",
      "這是第3次運算\n",
      "這是第4次運算\n",
      "這是test_run第2測試\n",
      "這是test_run第3測試\n",
      "這是test_run第4測試\n",
      "這是test_run第5測試\n",
      "這是test_run第6測試\n",
      "這是test_run第7測試\n"
     ]
    }
   ],
   "source": [
    "i = 1\n",
    "n = 5\n",
    "for i in range(1,n):\n",
    "        print(f'這是第{i}次運算')\n",
    "        #print(f'此時i的值為{i}')\n",
    "        \n",
    "#此時可以看到 i 的值變為\n",
    "print(i)\n",
    "\n",
    "i = 1\n",
    "n = 5\n",
    "while(i < 5):\n",
    "    print(f'這是第{i}次運算')\n",
    "    i = i + 1 "
   ]
  },
  {
   "cell_type": "code",
   "execution_count": 7,
   "metadata": {},
   "outputs": [
    {
     "name": "stdout",
     "output_type": "stream",
     "text": [
      "這是第5次運算\n",
      "這是第3次運算\n",
      "3\n"
     ]
    }
   ],
   "source": [
    "i = 1\n",
    "n = 5\n",
    "for i in range(n, 1, -2):\n",
    "        print(f'這是第{i}次運算')\n",
    "        \n",
    "#此時可以看到 i 的值變為\n",
    "print(i)"
   ]
  },
  {
   "cell_type": "code",
   "execution_count": 19,
   "metadata": {},
   "outputs": [
    {
     "name": "stdout",
     "output_type": "stream",
     "text": [
      "a : 2\n",
      "b : 5\n",
      "14\n"
     ]
    }
   ],
   "source": [
    "# Q 在給予任意正整數 a, b，請計算 a+(a+1)+(a+2)+...+b 的值，存入 sum_for 這個變數中並印出來。\n",
    "\n",
    "### Your code starts here\n",
    "a = int(input(\"a : \"))\n",
    "b = int(input(\"b : \"))\n",
    "sum_for = 0;\n",
    "for i in range(a, b+1):\n",
    "    sum_for = sum_for + i\n",
    "\n",
    "print(sum_for)\n",
    "### End of your code\n",
    "assert (sum_for == (a+b)*(b-a+1)/2)"
   ]
  },
  {
   "cell_type": "markdown",
   "metadata": {},
   "source": [
    "## 進階用法\n",
    "for loop 中的range() 也可以使用list 來代替，假如我們有一個存放的list，我們可以將range() 以list 來替代\n",
    "    \n",
    "    for i in list_form:\n",
    "        (這裡只要有 i 的地方都會印出 list_form 的值)\n",
    "        \n",
    "這裡的 i 會跑過 list 中所有的index 所對應的值\n",
    "也可以使用list的函數 len() 來求出list的長度，並用range 給予範圍\n",
    "\n",
    "    for i in range(0, len(list_form)):\n",
    "        (list_form[i])"
   ]
  },
  {
   "cell_type": "code",
   "execution_count": 6,
   "metadata": {},
   "outputs": [
    {
     "name": "stdout",
     "output_type": "stream",
     "text": [
      "這是第1次運算\n",
      "這是第2次運算\n",
      "這是第3次運算\n",
      "這是第4次運算\n",
      "這是第5次運算\n"
     ]
    }
   ],
   "source": [
    "list_num = [1,2,3,4,5]\n",
    "\n",
    "for i in list_num :\n",
    "    print(f'這是第{i}次運算')"
   ]
  },
  {
   "cell_type": "code",
   "execution_count": 16,
   "metadata": {},
   "outputs": [
    {
     "name": "stdout",
     "output_type": "stream",
     "text": [
      "The Name list contains A\n",
      "The Name list contains B\n",
      "The Name list contains C\n",
      "The Name list contains D\n",
      "The Name list contains E\n",
      "The Name list contains A\n",
      "The Name list contains B\n",
      "The Name list contains C\n",
      "The Name list contains D\n",
      "The Name list contains E\n"
     ]
    }
   ],
   "source": [
    "list_name = ['A','B','C','D','E']\n",
    "\n",
    "for i in list_name :\n",
    "    print(f'The Name list contains {i}')\n",
    "\n",
    "#或是使用 range(0, len())\n",
    "for i in range(0, len(list_name)):\n",
    "    print(f'The Name list contains {list_name[i]}')"
   ]
  },
  {
   "cell_type": "code",
   "execution_count": 18,
   "metadata": {},
   "outputs": [
    {
     "name": "stdout",
     "output_type": "stream",
     "text": [
      " 01 - Tom\n",
      " 02 - John\n",
      " 03 - Micheal\n",
      " 04 - Alan\n",
      " 05 - Hank\n"
     ]
    }
   ],
   "source": [
    "#Q 已知現有學生名單 student 存在dict 中，請印出學生名字與對應的 ID，例如 : 01-Tom\n",
    "student = {'Name' : ['Tom', 'John', 'Micheal', 'Alan', 'Hank'], \n",
    "           'ID'    : ['01', '02', '03', '04', '05'  ]}\n",
    "\n",
    "### Your Code Goes Here\n",
    "for i in range(0,len(student['Name'])):\n",
    "    #print(f'{i}')\n",
    "    print(f' {student[\"ID\"][i]} - {student[\"Name\"][i]}')\n",
    "\n",
    "### End of your code"
   ]
  },
  {
   "cell_type": "markdown",
   "metadata": {},
   "source": [
    "## 2. 函式\n",
    "\n",
    "如果我們想在python中建立自己的函式，可以利用以下的規則\n",
    "\n",
    "    def 函式名稱(變數1, 變數2, ... 變數n):\n",
    "    (Tab) 函式的運算\n",
    "    (Tab) return 函式的回傳值               #就是函式會給予你的東西\n",
    "\n",
    "\n",
    "首先我們先定義好函式的名稱，然後定義裡面有幾個變數，接著進行這個函式的運算，最後回傳給電腦這個函式的值。  \n",
    "這樣子建立好函式之後，我們就可以使用這個函式像其他之前的函式一樣。舉例來說:  \n",
    "    \n",
    "    def add_three(a, b, c): #這個 add_three 函式會有三個變數 a, b, c\n",
    "        sum_3_num = a + b + c     #定義新的變數sum 當我們在呼叫這個函式的時候，讓sum = a + b + c\n",
    "        return sum_3_num          #回傳這個函數的結果(也就是回傳sum_3_num )\n",
    "        \n",
    "當我們定義好函式後，便可以使用這個函式\n",
    "\n",
    "    x = add_three(1, 2, 5) \n",
    "\n",
    "此時 1, 2, 5 便會被當成 a, b, c 傳入上面的函式裡面，並進行計算，然後回傳 sum_3_num 給x\n",
    "    "
   ]
  },
  {
   "cell_type": "code",
   "execution_count": 14,
   "metadata": {},
   "outputs": [
    {
     "name": "stdout",
     "output_type": "stream",
     "text": [
      "6\n"
     ]
    }
   ],
   "source": [
    "# 定義函式\n",
    "def add_three(a, b, c): \n",
    "    sum_3_num = a + b + c     \n",
    "    return sum_3_num     \n",
    "\n",
    "# 使用函式\n",
    "x = add_three(1,2,3)\n",
    "print(x)"
   ]
  },
  {
   "cell_type": "code",
   "execution_count": 20,
   "metadata": {},
   "outputs": [
    {
     "name": "stdout",
     "output_type": "stream",
     "text": [
      "x2\n",
      "y5\n",
      "14\n"
     ]
    }
   ],
   "source": [
    "# Q 請將上面從 a 加到 b 的程式變成函數，當我呼叫這個函式時便會直接印出 a 加到 b 的結果\n",
    "\n",
    "### Your code starts here\n",
    "def a_AddTo_b(a, b):\n",
    "    sum_for = 0;\n",
    "    for i in range(a, b+1):\n",
    "        sum_for = sum_for + i\n",
    "    \n",
    "    print(sum_for)\n",
    "    return \n",
    "\n",
    "x = int(input('x'))\n",
    "y = int(input('y'))\n",
    "a_AddTo_b(x, y)\n",
    "\n",
    "###End of your code"
   ]
  },
  {
   "cell_type": "markdown",
   "metadata": {},
   "source": [
    "### 補充說明：return 的種類\n",
    "\n",
    "    (1) return 單一值 #這樣就是一般回傳的值，看最後要return回去是int, string, float, object 都行\n",
    "\n",
    "    (2) return tuple #如果想要回傳的數不只一個，我們可以使用truple 來回傳多個數據\n",
    "\n",
    "    (3) return function() #可以回傳原本的函式，變成遞迴的形式，但就是在函式的運算中要加入跳出條件\n",
    "        會在下一章節再提及\n"
   ]
  },
  {
   "cell_type": "code",
   "execution_count": 20,
   "metadata": {},
   "outputs": [
    {
     "name": "stdout",
     "output_type": "stream",
     "text": [
      "your name:Ham\n",
      "your ID:192\n",
      "Ham\n"
     ]
    }
   ],
   "source": [
    "def add_name_ID(): #我們可以建立一個函數，讓我們在呼叫這個函數的時候可讓使用者輸入名字跟 ID，然後回傳 名字與 ID 的tuple\n",
    "    \n",
    "    name = input(\"your name:\")\n",
    "    ID = input(\"your ID:\")\n",
    "    \n",
    "    return name, ID\n",
    "\n",
    "user_name, user_ID = add_name_ID()\n",
    "print(user_name)\n",
    "print(user_ID)"
   ]
  },
  {
   "cell_type": "markdown",
   "metadata": {},
   "source": [
    "# 3. Homework\n",
    "\n",
    "現在有三個數 a, b, c ，請寫出一個函式 compare3(a,b,c)，在輸入 a, b, c 時能回傳這三個值中最大的值\n"
   ]
  },
  {
   "cell_type": "code",
   "execution_count": 26,
   "metadata": {},
   "outputs": [
    {
     "name": "stdout",
     "output_type": "stream",
     "text": [
      "Congrat, your answer is correct\n"
     ]
    }
   ],
   "source": [
    "### Your Code goes here\n",
    "def compare3(a,b,c):\n",
    "    if (a > b) :\n",
    "        bigger = a\n",
    "    else: \n",
    "        bigger = b\n",
    "    \n",
    "    if(bigger > c):\n",
    "        return bigger\n",
    "    else:\n",
    "        return c\n",
    "        \n",
    "### End of your code\n",
    "assert (compare3(1,2,3) == 3)\n",
    "assert (compare3(2,1,3) == 3)\n",
    "assert (compare3(1,3,2) == 3)\n",
    "assert (compare3(3,1,2) == 3)\n",
    "\n",
    "print('Congrat, your answer is correct')"
   ]
  },
  {
   "cell_type": "markdown",
   "metadata": {},
   "source": [
    "請依大小回傳這三個數，例如輸入 2,1,3 會回傳 3,2,1"
   ]
  },
  {
   "cell_type": "code",
   "execution_count": 21,
   "metadata": {},
   "outputs": [],
   "source": [
    "### Your Code goes here\n",
    "\n",
    "\n",
    "### End of your code"
   ]
  }
 ],
 "metadata": {
  "kernelspec": {
   "display_name": "Python 3",
   "language": "python",
   "name": "python3"
  },
  "language_info": {
   "codemirror_mode": {
    "name": "ipython",
    "version": 3
   },
   "file_extension": ".py",
   "mimetype": "text/x-python",
   "name": "python",
   "nbconvert_exporter": "python",
   "pygments_lexer": "ipython3",
   "version": "3.7.0"
  }
 },
 "nbformat": 4,
 "nbformat_minor": 2
}
