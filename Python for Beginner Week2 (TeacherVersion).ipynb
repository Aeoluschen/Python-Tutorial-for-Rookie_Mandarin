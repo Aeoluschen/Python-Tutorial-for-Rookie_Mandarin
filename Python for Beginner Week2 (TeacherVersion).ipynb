{
 "cells": [
  {
   "cell_type": "markdown",
   "metadata": {},
   "source": [
    "# Python 初學 Week2 if/while 判斷式"
   ]
  },
  {
   "cell_type": "markdown",
   "metadata": {},
   "source": [
    "## 1. True/False\n",
    "在程式語言中，判斷一件事是否成立的話會用True/False來表示，\"是\"可以用Ture 或是 1來表示/ \"否\"可以用False 或是 0來表示。  \n",
    "舉例來說， 1>2 這個判斷式就是False. 1<2 這個判斷式就是True (在 python 中，True/False 會以粗體表示)  \n",
    "一般常用的判斷運算子有以下幾個  \n",
    "\n",
    "    (1) x == y #x是否等於 y\n",
    "    (2) x != y #x是否不等於 y\n",
    "    (3) x >= y #x是否大於等於 y\n",
    "    (3) x <= y #x是否小於等於 y\n",
    "    \n",
    "***注意: 一次只能比較兩個***\n",
    "\n",
    "以及集合運算(此時x,y 為邏輯判斷式)\n",
    "\n",
    "    (1) x and y 也可以寫成 x & y  #x和y (也就是x 跟 y 一定要兩個都是 True 結果才成立)\n",
    "    \n",
    "    (2) x or y  也可以寫成 x | y  #x或y (也就是x 跟 y 只要有一個是 True 結果就成立)\n",
    "\n",
    "***注意: 一次只能比較兩個*** \n",
    "\n",
    "以下是舉例"
   ]
  },
  {
   "cell_type": "code",
   "execution_count": 8,
   "metadata": {},
   "outputs": [
    {
     "name": "stdout",
     "output_type": "stream",
     "text": [
      " x 是否等於 y :False\n",
      " x 是否不等於 y :True\n",
      " x 是否大於 y :False\n",
      " x 是否小於 y :True\n",
      " x 是否大於等於 y :False\n",
      " x 是否小於等於 y :True\n"
     ]
    }
   ],
   "source": [
    "#判斷運算\n",
    "x = 2\n",
    "y = 3\n",
    "\n",
    "x_equal_y = (x == y) #將  是否(x==y) 的結果存在 x_equal_y 這個變數中\n",
    "print(f' x 是否等於 y :{x_equal_y}')\n",
    "\n",
    "x_not_equal_y = (x != y) #將  是否(x!=y) 的結果存在 x_not_equal_y 這個變數中\n",
    "print(f' x 是否不等於 y :{x_not_equal_y}')\n",
    "\n",
    "x_greater_y = (x > y)\n",
    "print(f' x 是否大於 y :{x_greater_y}')\n",
    "\n",
    "x_lesser_y = (x < y)\n",
    "print(f' x 是否小於 y :{x_lesser_y}')\n",
    "\n",
    "x_geaual_y = (x >= y)\n",
    "print(f' x 是否大於等於 y :{x_geaual_y}')\n",
    "\n",
    "x_leaual_y = (x <= y)\n",
    "print(f' x 是否小於等於 y :{x_leaual_y}')\n"
   ]
  },
  {
   "cell_type": "code",
   "execution_count": 9,
   "metadata": {},
   "outputs": [
    {
     "name": "stdout",
     "output_type": "stream",
     "text": [
      "False\n",
      "True\n"
     ]
    }
   ],
   "source": [
    "#集合運算\n",
    "x = 2\n",
    "y = 3\n",
    "z = 2\n",
    "\n",
    "compare3 = ((x == y) and (x == z)) # 比較 是否 x == y 且 y == z \n",
    "print(f'{compare3}')\n",
    "\n",
    "compare3 = ((x == y) or (x == z)) # 比較 是否 x == y 或 y == z \n",
    "print(f'{compare3}')\n",
    "\n"
   ]
  },
  {
   "cell_type": "markdown",
   "metadata": {},
   "source": [
    "## 2. If 判斷式\n",
    "在程式語言中，我們常需要因為各種情況來做出對應的決策，因此If 判斷式就非常重要，其在python 的語法為\n",
    "\n",
    "    if(判斷式):\n",
    "    (Tab鍵){如果判斷式成立要進行的運算}\n",
    "    \n",
    "那如果判斷式不成立，我們想做一個相反的運算，我們可以加入else 或是 elif，也就是 else if 的縮寫，其組合起來的語法就是\n",
    "\n",
    "    if(判斷式):\n",
    "    (Tab鍵) 如果if判斷式成立要進行的運算\n",
    "    elif(判斷式):\n",
    "    (Tab鍵) 如果if判斷式不成立，elif判斷式成立要進行的運算\n",
    "    else(判斷式):\n",
    "    (Tab鍵)如果以上判斷式皆不成立，要進行的運算\n",
    "    \n",
    "在其中 elif 的數量是可以很多個的，if...elif...elif...elif..."
   ]
  },
  {
   "cell_type": "code",
   "execution_count": 3,
   "metadata": {},
   "outputs": [
    {
     "name": "stdout",
     "output_type": "stream",
     "text": [
      "請輸入第一個骰子的值3\n",
      "請輸入第二個骰子的值3\n",
      "Game Tie\n"
     ]
    }
   ],
   "source": [
    "x = int(input(\"請輸入第一個骰子的值\"))\n",
    "y = int(input(\"請輸入第二個骰子的值\"))\n",
    "if( x > y):\n",
    "    print(\"You Win\")\n",
    "elif(x < y):\n",
    "    print(\"You Loose\")\n",
    "else:\n",
    "    print(\"Game Tie\")"
   ]
  },
  {
   "cell_type": "markdown",
   "metadata": {},
   "source": [
    "### Random() 函式\n",
    "Random() 是Python 中一個非常好用的函式，他可以產生各種亂數，以下是他的基本用法\n",
    "\n",
    "    random.random() #會給出一個在[0,1) 之間的數\n",
    "    random.randint(a, b) #會給出介於a 和 b之間的整數\n",
    "    \n",
    "**請記得引入 random 宏包**  \n",
    "\n",
    "    import random\n",
    "    \n",
    "補充說明:\n",
    "如果想要使的每次產生的數字皆相同，則需要引入 seed() 子函式  \n",
    "\n",
    "    random.seed(數字) #會使的每次給出來的隨機數一樣"
   ]
  },
  {
   "cell_type": "code",
   "execution_count": 1,
   "metadata": {},
   "outputs": [],
   "source": [
    "import random"
   ]
  },
  {
   "cell_type": "code",
   "execution_count": 5,
   "metadata": {},
   "outputs": [
    {
     "name": "stdout",
     "output_type": "stream",
     "text": [
      "dice : 1\n"
     ]
    }
   ],
   "source": [
    "dice = random.randint(1,6)\n",
    "Rdm_number = random.random()\n",
    "print(f'dice : {dice}')"
   ]
  },
  {
   "cell_type": "code",
   "execution_count": 43,
   "metadata": {},
   "outputs": [
    {
     "name": "stdout",
     "output_type": "stream",
     "text": [
      "5 vs. 1 \n",
      "You Win\n"
     ]
    }
   ],
   "source": [
    "# Q. 請寫一個能產生兩個骰子的程式，第一個骰子是你骰到的(存放在dice_your變數)，第二個是電腦骰到的(存放在dice_com變數)\n",
    "#每骰一次就印出比分(你的骰子 vs. 電腦的骰子), 判斷誰輸誰贏\n",
    "\n",
    "###Your code goes here\n",
    "dice_your = random.randint(1,6)\n",
    "dice_com = random.randint(1,6)\n",
    "\n",
    "print(f'{dice_your} vs. {dice_com} ')\n",
    "if( dice_your > dice_com):\n",
    "    print(\"You Win\")\n",
    "elif(dice_your < dice_com):\n",
    "    print(\"You Loose\")\n",
    "else:\n",
    "    print(\"Game Tie\")\n",
    "\n",
    "###End of your code\n",
    "\n",
    "#=======================================================\n",
    "assert ((dice_your <= 6) or (dice_your >= 1) ), \" 請使用random.randint() 函數\"\n",
    "assert ((dice_com <= 6) or (dice_com >= 1) ), \" 請使用random.randint() 函數\""
   ]
  },
  {
   "cell_type": "markdown",
   "metadata": {},
   "source": [
    "## 2. While() 迴圈\n",
    "\n",
    "if() 判斷式通常只判斷一次，但 while()是要當條件不滿足判斷式之後才會跳出迴圈，不然會一直執行，他的用法如下\n",
    "\n",
    "    while(判斷式):\n",
    "    (Tab鍵)要運行的計算\n",
    "    (空行)\n",
    "\n",
    "當滿足判斷式之後，while便會跳出迴圈  \n",
    "***注意，如果判斷式沒寫好很有可能會一直跳不出迴圈*** 程式就會卡著不動了\n",
    "\n",
    "補充: Break 的使用，可以跳出*全部迴圈*\n",
    "   \n",
    "    while(判斷式1):\n",
    "        if(判斷式2):\n",
    "            break\n",
    "\n",
    "當在執行 while()，且又符合判斷式2，則進入break -> 跳出一整個 while()\n"
   ]
  },
  {
   "cell_type": "code",
   "execution_count": null,
   "metadata": {},
   "outputs": [],
   "source": [
    "count = 0\n",
    "while(count < 5): #如果count 小於5 就執行以下運算\n",
    "    count = count +1 # count = count +1\n",
    "print(count) #把count 印出來"
   ]
  },
  {
   "cell_type": "code",
   "execution_count": 3,
   "metadata": {},
   "outputs": [
    {
     "name": "stdout",
     "output_type": "stream",
     "text": [
      "4\n"
     ]
    }
   ],
   "source": [
    "count = 0\n",
    "while(count < 5): #如果count 小於5 就執行以下運算\n",
    "    count = count +1 # count = count +1\n",
    "    if(count == 4):\n",
    "        break        # 如果count = 4, 則跳出 全部迴圈，可以看到這樣印出來的 count值為 4\n",
    "print(count) #把count "
   ]
  },
  {
   "cell_type": "raw",
   "metadata": {},
   "source": [
    "#跳不出迴圈的範例\n",
    "\n",
    "count = 0\n",
    "while(count > -1): #如果count 大於 -1 就執行以下運算\n",
    "    count = count +1 # count = count +1\n",
    "\n",
    "print(count) #把count印出來 \n",
    "\n",
    "#這個程式因為count 一定 >-1 所以會一直跑直到使用者介入"
   ]
  },
  {
   "cell_type": "code",
   "execution_count": 5,
   "metadata": {},
   "outputs": [
    {
     "name": "stdout",
     "output_type": "stream",
     "text": [
      "Game Tie\n",
      "You Loose\n",
      "You Loose\n",
      "You Loose\n",
      "You Win\n",
      "Game Tie\n",
      "You Win\n",
      "You Loose\n",
      "You Win\n",
      "You Win\n",
      "You Loose\n",
      "You Win\n"
     ]
    }
   ],
   "source": [
    "#Q 請利用上個作業的骰子遊戲，做出 \"當你贏了電腦5次就跳出迴圈\" 。並且印出每次你跟電腦骰子的結果\n",
    "# hint : 當贏了一次，win_number 就會加 1\n",
    "\n",
    "### Your code goes here\n",
    "win_number = 0\n",
    "while(win_number < 5): \n",
    "    dice_your = random.randint(1,6)\n",
    "    dice_com = random.randint(1,6)\n",
    "    #print(f'your dice {dice_your} vs. computer dice {dice_com} ')\n",
    "    \n",
    "    if( dice_your > dice_com):\n",
    "        print(\"You Win\")\n",
    "        win_number = win_number + 1\n",
    "    elif(dice_your < dice_com):\n",
    "        print(\"You Loose\")\n",
    "    else:\n",
    "        print(\"Game Tie\")\n",
    "\n",
    "### End of your code\n"
   ]
  },
  {
   "cell_type": "markdown",
   "metadata": {},
   "source": [
    "### 進階用法 當使用者輸入後開始跑迴圈\n",
    "如果是要一直使使用者輸入後才可以開始的迴圈，我們可以使用\n",
    "\n",
    "    while(input()):\n",
    "        要執行的式子\n",
    "        \n",
    "當使用者有輸入值，while() 中就會是Ture然後開始執行迴圈\n",
    "如果沒有輸入值，直接按Enter，while() 中就會是False然後跳出迴圈 \n",
    "\n",
    "或是: 可以讓while()迴圈一直跑，然後用 break 去跳出迴圈\n"
   ]
  },
  {
   "cell_type": "code",
   "execution_count": 1,
   "metadata": {},
   "outputs": [
    {
     "name": "stdout",
     "output_type": "stream",
     "text": [
      "請任意輸入e\n",
      "Hello World\n",
      "請任意輸入r\n",
      "Hello World\n",
      "請任意輸入\n"
     ]
    }
   ],
   "source": [
    "while(input(\"請任意輸入\")):\n",
    "    print('Hello World')"
   ]
  },
  {
   "cell_type": "code",
   "execution_count": 3,
   "metadata": {},
   "outputs": [
    {
     "name": "stdout",
     "output_type": "stream",
     "text": [
      "請輸入p結束2\n",
      "請輸入p結束3\n",
      "請輸入p結束4\n",
      "請輸入p結束1\n",
      "請輸入p結束2\n",
      "請輸入p結束34\n",
      "請輸入p結束4\n",
      "請輸入p結束2\n",
      "請輸入p結束p\n"
     ]
    }
   ],
   "source": [
    "while(True):\n",
    "    interrupt = input(\"請輸入p結束\")\n",
    "    if interrupt==\"p\":\n",
    "        break"
   ]
  },
  {
   "cell_type": "code",
   "execution_count": 4,
   "metadata": {},
   "outputs": [
    {
     "name": "stdout",
     "output_type": "stream",
     "text": [
      "請輸入正整數n的值2\n",
      "3\n"
     ]
    }
   ],
   "source": [
    "#Q 請輸入正整數n的值然後讓程式求出 1+2+...+n 的值，存在n_sum中，並印出最後結果\n",
    "\n",
    "### Your code goes here\n",
    "n = int(input('請輸入正整數n的值'))\n",
    "n_sum = 0\n",
    "while(n >= 0):\n",
    "    n_sum = n_sum + n\n",
    "    n = n - 1\n",
    "\n",
    "print(n_sum)\n",
    "### End of Your code"
   ]
  },
  {
   "cell_type": "markdown",
   "metadata": {},
   "source": [
    "# 3. Homework\n",
    "\n",
    "請讓使用者輸入整數n的值然後讓程式求出 n!, 並印出 \"n! = ___\" 後結束。\n",
    "\n",
    "如果使用者輸入負數，印出 \"請輸入正整數\" \n",
    "\n",
    "**請注意特例, 0! = 1**    \n",
    " "
   ]
  },
  {
   "cell_type": "code",
   "execution_count": 28,
   "metadata": {},
   "outputs": [
    {
     "name": "stdout",
     "output_type": "stream",
     "text": [
      "please enter n = 4\n",
      "4! = 24\n"
     ]
    }
   ],
   "source": [
    "### Your code goes here\n",
    "n_ini = int(input(\"please enter n = \"))\n",
    "n_rank = 1\n",
    "n = n_ini\n",
    "\n",
    "if( n < 0):\n",
    "    print(f'請輸入正整數')\n",
    "else :\n",
    "    while(n > 1):\n",
    "        n_rank = n_rank*n\n",
    "        n = n -1\n",
    "    \n",
    "    print(f'{n_ini}! = {n_rank}')\n",
    "### End of your code\n"
   ]
  }
 ],
 "metadata": {
  "kernelspec": {
   "display_name": "Python 3",
   "language": "python",
   "name": "python3"
  },
  "language_info": {
   "codemirror_mode": {
    "name": "ipython",
    "version": 3
   },
   "file_extension": ".py",
   "mimetype": "text/x-python",
   "name": "python",
   "nbconvert_exporter": "python",
   "pygments_lexer": "ipython3",
   "version": "3.7.0"
  }
 },
 "nbformat": 4,
 "nbformat_minor": 2
}
