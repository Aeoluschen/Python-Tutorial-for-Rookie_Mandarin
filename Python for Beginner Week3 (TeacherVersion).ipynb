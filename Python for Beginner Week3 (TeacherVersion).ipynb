{
 "cells": [
  {
   "cell_type": "markdown",
   "metadata": {},
   "source": [
    "# Python 初學 Week3 List、Tuple、Dictionary"
   ]
  },
  {
   "cell_type": "markdown",
   "metadata": {},
   "source": [
    "## 1. List\n",
    "\n",
    "今天要介紹 Python 的另一種結構 List，可以把List想像成一格一格的格子，每個格子可以放入各種不同資料型態的東西，要宣告List的方法是：\n",
    "\n",
    "    list型態變數 = [元素1, 元素2, 元素3] #這裡的元素可以是 int, string, float 等等...\n",
    "    \n",
    "那要取出 list 中第 i 個 元素值就需要使用 \n",
    "    \n",
    "    變數 = list型態變數[i-1] #python 的資料排序是從 0 開始\n",
    "\n",
    "**一開始也可以宣告空list**\n",
    "    \n",
    "    list型態變數 = [] #空list"
   ]
  },
  {
   "cell_type": "code",
   "execution_count": 1,
   "metadata": {},
   "outputs": [
    {
     "name": "stdout",
     "output_type": "stream",
     "text": [
      "1\n",
      "3.414\n",
      "a\n"
     ]
    }
   ],
   "source": [
    "list_elem = [1, 3.414, 'a']\n",
    "print(list_elem[0])\n",
    "print(list_elem[1])\n",
    "print(list_elem[2])"
   ]
  },
  {
   "cell_type": "markdown",
   "metadata": {},
   "source": [
    "# 補充說明\n",
    "如果想取出 list元素中 index 從 a~b 的元素，我們可以使用\n",
    "\n",
    "    A[a:b] #取出 A[a], A[a+1], ... , A[b-1] 的元素 (這取出的元素也是list型式)\n",
    "    A[a:] #取出 A[a]與之後的所有元素(這取出的元素也是list型式)\n",
    "    A[:] #取出 A 全部的所有元素(這取出的元素也是list型式)\n",
    "    \n"
   ]
  },
  {
   "cell_type": "code",
   "execution_count": 1,
   "metadata": {},
   "outputs": [
    {
     "name": "stdout",
     "output_type": "stream",
     "text": [
      "[3.414, 'a', 'b', 'c', 'd']\n",
      "<class 'list'>\n"
     ]
    }
   ],
   "source": [
    "list_elem = [1, 3.414, 'a', 'b', 'c', 'd']\n",
    "pick_up = list_elem[1:] #取出list中 0~3 的元素\n",
    "print(pick_up)  #取出list中 0~3 的元素\n",
    "print(type(pick_up))"
   ]
  },
  {
   "cell_type": "markdown",
   "metadata": {},
   "source": [
    "### List 功能\n",
    "\n",
    "#### (1). 增加元素\n",
    "\n",
    "    A.append(要增加的元素) #將要增加的元素增加在A的末段\n",
    "    \n",
    "    A.extend(list型變數) #將要增加的List增加在A的末段\n",
    "    \n",
    "    A.insert(i, 要增加的元素 ) #將要增加的元素增加在index = i 的位置。"
   ]
  },
  {
   "cell_type": "code",
   "execution_count": 3,
   "metadata": {},
   "outputs": [
    {
     "name": "stdout",
     "output_type": "stream",
     "text": [
      "[1, 3.414, 'a']\n",
      "[1, 3.414, 'a', 'first_added_elem']\n",
      "[1, 3.414, 'a', 'first_added_elem', 'BList1', 'BList2']\n",
      "[1, 3.414, 'insert_elem', 'a', 'first_added_elem', 'BList1', 'BList2']\n"
     ]
    }
   ],
   "source": [
    "list_elem = [1, 3.414, 'a']\n",
    "\n",
    "print(list_elem)\n",
    "list_elem.append(\"first_added_elem\")\n",
    "\n",
    "print(list_elem)\n",
    "B_list = [\"BList1\",\"BList2\"]\n",
    "list_elem.extend(B_list)\n",
    "\n",
    "print(list_elem)\n",
    "list_elem.insert(2, \"insert_elem\")\n",
    "\n",
    "print(list_elem)\n"
   ]
  },
  {
   "cell_type": "code",
   "execution_count": 4,
   "metadata": {},
   "outputs": [],
   "source": [
    "# Q 請宣告一個 List變數，並存入你的名字，身高(以公尺為單位), 體重\n",
    "\n",
    "### Your code goes here\n",
    "\n",
    "\n",
    "### End of your code "
   ]
  },
  {
   "cell_type": "code",
   "execution_count": 5,
   "metadata": {},
   "outputs": [],
   "source": [
    "#Q 請就你剛剛宣告的list，增加你的性別\n",
    "\n",
    "### Your code goes here\n",
    "\n",
    "\n",
    "### End of your code \n"
   ]
  },
  {
   "cell_type": "markdown",
   "metadata": {},
   "source": [
    "### List 功能\n",
    "   \n",
    "#### (2). 移除元素\n",
    "\n",
    "    del A[a:b]   #將 List A 中 index = a 到 index = b 的元素移除\n",
    "    n = A.pop()  #取出 A 最末的元素存入n 後移除\n",
    "    "
   ]
  },
  {
   "cell_type": "code",
   "execution_count": 6,
   "metadata": {},
   "outputs": [
    {
     "name": "stdout",
     "output_type": "stream",
     "text": [
      "[1, 3.414, 'a', 'b', 'c']\n",
      "['a', 'b', 'c']\n",
      "c\n",
      "['a', 'b']\n"
     ]
    }
   ],
   "source": [
    "list_elem = [1, 3.414, 'a', 'b', 'c']\n",
    "\n",
    "print(list_elem)\n",
    "del list_elem[0:2] #移除第 0 ~ 2項元素\n",
    "\n",
    "print(list_elem)\n",
    "\n",
    "n = list_elem.pop() #取出最末的元素存入n 後移除\n",
    "\n",
    "print(n)\n",
    "print(list_elem)\n"
   ]
  },
  {
   "cell_type": "markdown",
   "metadata": {},
   "source": [
    "### List 功能\n",
    "   \n",
    "#### (3). 其他功能\n",
    "\n",
    "    len(A)   # List A 的長度\n",
    "    max(A)/min(A)   # 取出 A 中的最大值最小值\n",
    "    A.sort() # 將 A 中的值排序\n",
    "    "
   ]
  },
  {
   "cell_type": "code",
   "execution_count": 3,
   "metadata": {},
   "outputs": [
    {
     "name": "stdout",
     "output_type": "stream",
     "text": [
      "[1, 3.414, 'a', 'b', 'c', 'd']\n",
      "6\n"
     ]
    }
   ],
   "source": [
    "#Q 請印出剛剛你寫的 list 的長度\n",
    "### Your code goes here\n",
    "print(list_elem)\n",
    "print(len(list_elem))\n",
    "### End of your code "
   ]
  },
  {
   "cell_type": "markdown",
   "metadata": {},
   "source": [
    "## 2. Tuple\n",
    "\n",
    "Tuple 就是不可以增加元素的list，其宣告方法為\n",
    "    \n",
    "    Tuple型變數 = (a, b, c)\n",
    "    "
   ]
  },
  {
   "cell_type": "code",
   "execution_count": 8,
   "metadata": {},
   "outputs": [
    {
     "name": "stdout",
     "output_type": "stream",
     "text": [
      "(1, 3.414, 'a')\n"
     ]
    }
   ],
   "source": [
    "tuple_elem = (1, 3.414, 'a')\n",
    "print(tuple_elem)"
   ]
  },
  {
   "cell_type": "code",
   "execution_count": 9,
   "metadata": {},
   "outputs": [],
   "source": [
    "# Q 請宣告一個 tuple型 變數，並存入你的名字，身高(以公尺為單位), 體重\n",
    "\n",
    "### Your code goes here\n",
    "\n",
    "\n",
    "### End of your code "
   ]
  },
  {
   "cell_type": "markdown",
   "metadata": {},
   "source": [
    "# 3. Dictionary\n",
    "\n",
    "dictionary 在python 中可以藉由標籤(key)來找到相對應的元素，他的用法如下\n",
    "\n",
    "    dict變數 = { key1 : 元素1 , key2 : 元素2, ...  }\n",
    "\n",
    "這裡的 key 是 string 型式，主要是讓你查找元素時使用，元素可以是 int, string, **list**, tuple 等等\n",
    "如果要讀取 dict 中的變數，我們需要使用\n",
    "\n",
    "    dict變數[key] #將key 包在中括號中"
   ]
  },
  {
   "cell_type": "code",
   "execution_count": 7,
   "metadata": {},
   "outputs": [
    {
     "name": "stdout",
     "output_type": "stream",
     "text": [
      "Tom\n",
      "80\n",
      "{'name': 'Tom', 'height': 180, 'weight': 80}\n"
     ]
    }
   ],
   "source": [
    "ID = {'name' : 'Tom', 'height' : 180, 'weight' : 80} #建立 ID 這個 Dict變數\n",
    "print(ID) #印出ID這個變數的值\n",
    "print(ID['name']) #找尋 ID 這個 Dict變數中名為 name 的標籤的對應值\n",
    "# print(type(ID['name']))\n",
    "# print(type(ID['height']))"
   ]
  },
  {
   "cell_type": "code",
   "execution_count": 12,
   "metadata": {},
   "outputs": [],
   "source": [
    "# Q 請宣告一個 dict 型 變數，並存入你的名字，身高(以公尺為單位), 體重\n",
    "\n",
    "### Your code goes here\n",
    "\n",
    "### End of your code\n"
   ]
  },
  {
   "cell_type": "markdown",
   "metadata": {},
   "source": [
    "### 補充說明\n",
    "Dict 可以讓元素變成是 list 的型式以便加入更多的值\n",
    "    \n",
    "    dict型變數 = {key1 : [list_elem1, list_elem2, ...], key2: elem2, ....}\n"
   ]
  },
  {
   "cell_type": "code",
   "execution_count": 15,
   "metadata": {},
   "outputs": [
    {
     "name": "stdout",
     "output_type": "stream",
     "text": [
      "{'name': ['Tom', 'Kevin', 'Jack'], 'Height': [180, 175, 167]}\n",
      "['Tom', 'Kevin', 'Jack']\n",
      "Kevin\n",
      "['Tom', 'Kevin']\n",
      "['Tom', 'Kevin', 'Jack', 'Alan']\n"
     ]
    }
   ],
   "source": [
    "student_ID = {'name' : ['Tom', 'Kevin', 'Jack'], 'Height' : [180, 175, 167]}\n",
    "print(student_ID)\n",
    "feature = ['name', 'Height']\n",
    "print(student_ID['name']) #讀出 key = name 的所有值\n",
    "print(student_ID['name'][1])\n",
    "print(student_ID['name'][:2]) #讀出index = 2之前的所有值\n",
    "\n",
    "student_ID['name'].append('Alan') #在名為 name 中的list元素中再加入Alan\n",
    "print(student_ID['name']) #可以看到 Alan 已經被加入了"
   ]
  },
  {
   "cell_type": "code",
   "execution_count": 14,
   "metadata": {},
   "outputs": [],
   "source": [
    "#Q 以下是學生名單與個人資料，請建立一個 Dictionary 去存入他們的資料 \n",
    "# Name : Tom, StudentID : 108022141, Gender : Male, Weight : 83 kg\n",
    "# Name : Alan, StudentID : 108032183, Gender : Male, Weight : 65 kg\n",
    "# Name : Jessica, StudentID : 108032183, Gender : Female, Weight : 45 kg\n",
    "\n",
    "### Your code goes here\n",
    "\n",
    "### End of your code\n"
   ]
  },
  {
   "cell_type": "markdown",
   "metadata": {},
   "source": [
    "# 4. Homework\n",
    "\n",
    "請設計一個程式，可以讓使用者輸入姓名與學號之後存入，並且在按'p' 之後跳出，最後印出所有名字與學號\n",
    "\n",
    "Hint : 利用上禮拜教的while 迴圈來控制甚麼時候跳出，並利用dist去建立一個可以存放姓名與學號的空間\n",
    "\n",
    "測試資料: \n",
    "1. 請輸入p看看是否會跳出迴圈\n",
    "2. 請輸入 Tom 108022123, John 109012133 看是否有存入程式中 "
   ]
  },
  {
   "cell_type": "code",
   "execution_count": 16,
   "metadata": {},
   "outputs": [
    {
     "name": "stdout",
     "output_type": "stream",
     "text": [
      "請輸入名字hi\n",
      "請輸入學號123\n",
      "請輸入名字hi2\n",
      "請輸入學號12334\n",
      "請輸入名字p\n",
      "{'Name': ['hi', 'hi2'], 'ID': ['123', '12334']}\n"
     ]
    }
   ],
   "source": [
    "###your code goes here \n",
    "student = {\"Name\":[], \"ID\":[]}\n",
    "while(True):\n",
    "    name = input(\"請輸入名字\")\n",
    "        \n",
    "    if(name == 'p'):\n",
    "        break\n",
    "    else:\n",
    "        ID = input(\"請輸入學號\")\n",
    "        student['Name'].append(name)\n",
    "        student['ID'].append(ID)\n",
    "\n",
    "print(student)\n",
    "###End of your code\n"
   ]
  }
 ],
 "metadata": {
  "kernelspec": {
   "display_name": "Python 3",
   "language": "python",
   "name": "python3"
  },
  "language_info": {
   "codemirror_mode": {
    "name": "ipython",
    "version": 3
   },
   "file_extension": ".py",
   "mimetype": "text/x-python",
   "name": "python",
   "nbconvert_exporter": "python",
   "pygments_lexer": "ipython3",
   "version": "3.7.0"
  }
 },
 "nbformat": 4,
 "nbformat_minor": 2
}
