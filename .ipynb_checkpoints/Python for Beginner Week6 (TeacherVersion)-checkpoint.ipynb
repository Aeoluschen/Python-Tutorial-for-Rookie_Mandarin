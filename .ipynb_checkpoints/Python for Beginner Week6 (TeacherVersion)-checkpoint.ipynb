{
 "cells": [
  {
   "cell_type": "markdown",
   "metadata": {},
   "source": [
    "# Python 初學 Week6  遞迴"
   ]
  },
  {
   "cell_type": "markdown",
   "metadata": {},
   "source": [
    "## 1. 遞迴\n",
    "\n",
    "在我們先前講過定義函式的回傳值中，除了回傳一般的數值、tuple 外還可以回傳原本函式，這種用法就稱為遞迴，舉例來說\n",
    "\n",
    "    def f(a, b):\n",
    "        運算式\n",
    "        return function_Name(a, b)\n",
    "        \n",
    "這個 $f(a,b)$ 函式所回傳的就是自己 $f(c,d)$，那 $f(c,d)$ 就是本身函式帶入 $c,d$ 進行的運算，其中 $c, d$ 可能會是在運算式中得到的結果。  \n",
    "那這樣因為電腦會一直在這函式裡運轉，因此在做遞迴時都會有特定條件讓我們可以跳出遞迴的圈圈。這樣講也許很抽象，我們舉一個 $a+(a+1)+...+b $的例子會比較清楚"
   ]
  },
  {
   "cell_type": "code",
   "execution_count": 10,
   "metadata": {},
   "outputs": [
    {
     "name": "stdout",
     "output_type": "stream",
     "text": [
      "10\n"
     ]
    }
   ],
   "source": [
    "def add_AB(a,b):\n",
    "    if a == b:\n",
    "        return b\n",
    "    \n",
    "    return a + add_AB(a+1, b)\n",
    "\n",
    "print(add_AB(1,4))"
   ]
  },
  {
   "cell_type": "markdown",
   "metadata": {},
   "source": [
    "在這個程式中，我們先看\n",
    "\n",
    "    return a + add_AB(a+1, b)\n",
    "    \n",
    "這個式子，一般當 $a \\neq b$ 時，我們會回傳 a + add_AB(a+1, b)，而此時又進行 add_AB(a+1, b) 的運算，如果 $a+1 \\neq b $, 那又會回傳 (a + 1) + add_AB(a+2, b) 給 add_AB(a+1, b) , 那這時原本的 a + add_AB(a+1, b) 會變成 a + ((a + 1) + add_AB(a+2, b)) 然後再進行 add_AB(a+2, b) 的運算... 直到變成 add_AB(b,b)，此時的式子已經是 a + (a+1) + (a+2) + ... + b-1 + add_AB(b,b)。  \n",
    "因此\n",
    "\n",
    "    if a == b:\n",
    "        return b\n",
    "        \n",
    "回傳 b 就可以讓式子變成 $a+(a+1)+...+b$\n",
    "\n",
    "遞迴的運用會減少設計函式的困難，再舉另外一個例子，我們可以用遞迴來計算整數除法中的餘數"
   ]
  },
  {
   "cell_type": "code",
   "execution_count": 21,
   "metadata": {},
   "outputs": [
    {
     "name": "stdout",
     "output_type": "stream",
     "text": [
      "7除以3 的餘數為 1\n",
      "23除以5 的餘數為 3\n"
     ]
    }
   ],
   "source": [
    "def rem(x,a):\n",
    "    if x == a:\n",
    "        return 0\n",
    "    elif x < a:\n",
    "        return x\n",
    "    else :\n",
    "        return rem(x-a, a)\n",
    "\n",
    "print(f'7除以3 的餘數為 {rem(7,3)}')\n",
    "print(f'23除以5 的餘數為 {rem(23,5)}')"
   ]
  },
  {
   "cell_type": "code",
   "execution_count": 22,
   "metadata": {},
   "outputs": [],
   "source": [
    "# Q 請利用遞迴式做出一個函式 f(n) 能算出 n!\n",
    "\n",
    "### Your code starts here\n",
    "def f(n):\n",
    "    if n == 0:\n",
    "        return 1\n",
    "    else:\n",
    "        return n*f(n-1)\n",
    "    \n",
    "\n",
    "### End of your code\n",
    "assert (f(6) == 720), '遞迴式有誤'"
   ]
  },
  {
   "cell_type": "markdown",
   "metadata": {},
   "source": [
    "# 2. Homework\n",
    "\n",
    "當我們給定正整數 n (n $\\geq 2$)， 請寫出費波納契數列第 n 項。\n",
    "費波納契數列: 第 n 項為前兩項的和, f(n) = f(n-1) + f(n-2)\n",
    "    \n",
    "    1, 1, 2, 3, 5, 8, 13 ..., f(n)\n"
   ]
  },
  {
   "cell_type": "code",
   "execution_count": 23,
   "metadata": {},
   "outputs": [
    {
     "ename": "AssertionError",
     "evalue": "",
     "output_type": "error",
     "traceback": [
      "\u001b[1;31m---------------------------------------------------------------------------\u001b[0m",
      "\u001b[1;31mAssertionError\u001b[0m                            Traceback (most recent call last)",
      "\u001b[1;32m<ipython-input-23-60c2275f89c0>\u001b[0m in \u001b[0;36m<module>\u001b[1;34m()\u001b[0m\n\u001b[0;32m     10\u001b[0m \u001b[1;33m\u001b[0m\u001b[0m\n\u001b[0;32m     11\u001b[0m \u001b[1;31m### End of your code\u001b[0m\u001b[1;33m\u001b[0m\u001b[1;33m\u001b[0m\u001b[0m\n\u001b[1;32m---> 12\u001b[1;33m \u001b[1;32massert\u001b[0m \u001b[0mFibonacci\u001b[0m\u001b[1;33m(\u001b[0m\u001b[1;36m8\u001b[0m\u001b[1;33m)\u001b[0m \u001b[1;33m==\u001b[0m \u001b[1;36m21\u001b[0m\u001b[1;33m\u001b[0m\u001b[0m\n\u001b[0m",
      "\u001b[1;31mAssertionError\u001b[0m: "
     ]
    }
   ],
   "source": [
    "\n",
    "\n",
    "def Fibonacci(n):\n",
    "    \n",
    "### Your code starts here    \n",
    "    \n",
    "    \n",
    "    return \n",
    "\n",
    "\n",
    "### End of your code\n",
    "assert Fibonacci(8) == 21"
   ]
  },
  {
   "cell_type": "code",
   "execution_count": null,
   "metadata": {},
   "outputs": [],
   "source": []
  }
 ],
 "metadata": {
  "kernelspec": {
   "display_name": "Python 3",
   "language": "python",
   "name": "python3"
  },
  "language_info": {
   "codemirror_mode": {
    "name": "ipython",
    "version": 3
   },
   "file_extension": ".py",
   "mimetype": "text/x-python",
   "name": "python",
   "nbconvert_exporter": "python",
   "pygments_lexer": "ipython3",
   "version": "3.7.0"
  }
 },
 "nbformat": 4,
 "nbformat_minor": 2
}
