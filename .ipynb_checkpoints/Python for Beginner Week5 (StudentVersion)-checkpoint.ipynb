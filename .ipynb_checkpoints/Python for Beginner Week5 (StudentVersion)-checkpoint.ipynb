{
 "cells": [
  {
   "cell_type": "markdown",
   "metadata": {},
   "source": [
    "# Python 初學 Week5 Class與物件導向"
   ]
  },
  {
   "cell_type": "markdown",
   "metadata": {},
   "source": [
    "## 1. 物件導向\n",
    "\n",
    "在多數的程式語言中，我們可以組合一個封包來包裝我們想要的資料，這些資料包含了各式各樣的資料型態與函式。簡單舉例，我們可以建立一個叫做 *\"身體資料\"* 的封包，裡面包含了 *\"體重、身高、BMI\"* 等等的資料，那這樣的東西就稱為 **物件**\n",
    "    \n",
    "    身體資料{\n",
    "        體重;\n",
    "        身高;\n",
    "        BMI = (體重)/身高^2;\n",
    "    }\n",
    "    \n",
    "這樣建立了這個身體物件的資料就可以包含體重、身高、BMI的資料"
   ]
  },
  {
   "cell_type": "markdown",
   "metadata": {},
   "source": [
    "## 2. Class\n",
    "\n",
    "在Python 中，要定義Class的方法如下：\n",
    "    \n",
    "    class Class名稱:\n",
    "        \n",
    "        def __init__(self, 物件1，物件2): #Constructor \n",
    "            self.物件1 = 物件1 #初始化 Class 中所包含的物件\n",
    "            self.物件2 = 物件2 \n",
    "            \n",
    "        \n",
    "        def 函式(self):\n",
    "            運算式(self.物件1, self.物件2) \n",
    "            #利用前面宣告而成的物件進行運算\n",
    "            \n",
    "舉剛剛\"身體素質\"的例子，我們可以宣告Body這個物件:\n",
    "    \n",
    "    class Body :\n",
    "        \n",
    "        def __init__(self, height, weight):\n",
    "            self.height = height\n",
    "            self.weight = weight\n",
    "            \n",
    "        def BMI(self):\n",
    "            BMI_value = self.weight/(self.height**2)\n",
    "            return BMI_value\n",
    "        \n",
    "這樣我們就宣告了 Body 這個物件，並且在裡面包含了 height, weight 以及 BMI 這個函式"
   ]
  },
  {
   "cell_type": "code",
   "execution_count": 1,
   "metadata": {},
   "outputs": [],
   "source": [
    "    \n",
    "class Body :\n",
    "     def __init__(self, height, weight):\n",
    "        self.height = height\n",
    "        self.weight = weight\n",
    "    \n",
    "     def BMI(self):\n",
    "        BMI_value = self.weight/(self.height**2)\n",
    "        return BMI_value\n",
    "\n"
   ]
  },
  {
   "cell_type": "markdown",
   "metadata": {},
   "source": [
    "在宣告完物件之後，我們需要在一開始給予 **__init__** 中所具有物件的值，也就是我們需要給予這個物件初始值。\n",
    "\n",
    "    class變數 = class(物件1 = 值1 , 物件2 = 值2 )  #在宣告時, \" 物件1 = \" 這個可寫可不寫\n",
    "    \n",
    "這樣我們就可以給予這個物件變數的物件1, 物件2 初始值\n",
    "\n",
    "當我們想要讀出物件1 時，我們可以使用 \".\" 運算子\n",
    "    \n",
    "    class變數.物件1\n",
    "\n",
    "表示呼叫這個class變數中的物件1\n",
    "\n",
    "如果要呼叫這個物件的函式也是一樣的做法\n",
    "\n",
    "    class.函式1(所需變數)\n",
    "\n",
    "請見以下 Body 的舉例"
   ]
  },
  {
   "cell_type": "code",
   "execution_count": 2,
   "metadata": {},
   "outputs": [
    {
     "name": "stdout",
     "output_type": "stream",
     "text": [
      "印出Me 這個Body物件中的身高: 60\n",
      "印出Me 這個Body物件中的體重: 1.7\n",
      "印出Me 這個Body物件中的BMI: 0.0004722222222222222\n"
     ]
    }
   ],
   "source": [
    "\n",
    "Me = Body(weight = 1.70, height = 60) #初始化Body 這個物件，並命名為 Me，將1.70 給到 height, 60 給到 weight\n",
    "print(f'印出Me 這個Body物件中的身高: {Me.height}') #使用 Me 這個 Body 物件中的 height\n",
    "print(f'印出Me 這個Body物件中的體重: {Me.weight}')\n",
    "print(f'印出Me 這個Body物件中的BMI: {Me.BMI()}') #使用 Me 這個 Body 物件中的 BMI 函數，並將這個函式的回傳值傳入print函式中"
   ]
  },
  {
   "cell_type": "code",
   "execution_count": 2,
   "metadata": {},
   "outputs": [
    {
     "ename": "NameError",
     "evalue": "name 'Grade' is not defined",
     "output_type": "error",
     "traceback": [
      "\u001b[1;31m---------------------------------------------------------------------------\u001b[0m",
      "\u001b[1;31mNameError\u001b[0m                                 Traceback (most recent call last)",
      "\u001b[1;32m<ipython-input-2-aacae33da6d5>\u001b[0m in \u001b[0;36m<module>\u001b[1;34m()\u001b[0m\n\u001b[0;32m     18\u001b[0m \u001b[1;31m### End of your code\u001b[0m\u001b[1;33m\u001b[0m\u001b[1;33m\u001b[0m\u001b[0m\n\u001b[0;32m     19\u001b[0m \u001b[1;33m\u001b[0m\u001b[0m\n\u001b[1;32m---> 20\u001b[1;33m \u001b[0mTom_grade\u001b[0m \u001b[1;33m=\u001b[0m \u001b[0mGrade\u001b[0m\u001b[1;33m(\u001b[0m\u001b[1;36m10\u001b[0m\u001b[1;33m,\u001b[0m \u001b[1;36m20\u001b[0m\u001b[1;33m,\u001b[0m \u001b[1;36m15\u001b[0m\u001b[1;33m)\u001b[0m\u001b[1;33m\u001b[0m\u001b[0m\n\u001b[0m\u001b[0;32m     21\u001b[0m \u001b[1;32massert\u001b[0m \u001b[1;33m(\u001b[0m\u001b[0mTom_grade\u001b[0m\u001b[1;33m.\u001b[0m\u001b[0mchinese\u001b[0m \u001b[1;33m==\u001b[0m \u001b[1;36m10\u001b[0m\u001b[1;33m)\u001b[0m\u001b[1;33m,\u001b[0m \u001b[1;34m'請檢查宣告的chinese'\u001b[0m\u001b[1;33m\u001b[0m\u001b[0m\n\u001b[0;32m     22\u001b[0m \u001b[1;32massert\u001b[0m \u001b[1;33m(\u001b[0m\u001b[0mTom_grade\u001b[0m\u001b[1;33m.\u001b[0m\u001b[0menglish\u001b[0m \u001b[1;33m==\u001b[0m \u001b[1;36m20\u001b[0m\u001b[1;33m)\u001b[0m\u001b[1;33m,\u001b[0m \u001b[1;34m'請檢查宣告的english'\u001b[0m\u001b[1;33m\u001b[0m\u001b[0m\n",
      "\u001b[1;31mNameError\u001b[0m: name 'Grade' is not defined"
     ]
    }
   ],
   "source": [
    "# Q 請建立一個類別 Grade，分別存放 (1) 國文 chinese (2) 英文 english (3) 數學 math 的成績，\n",
    "#   以及函式 sum_grade() 去計算三科的和、函式 max_grade()去計算三科分數最高的  \n",
    "\n",
    "### Your code starts here\n",
    "\n",
    "\n",
    "\n",
    "\n",
    "\n",
    "\n",
    "\n",
    "\n",
    "\n",
    "\n",
    "\n",
    "\n",
    "\n",
    "### End of your code\n",
    "\n",
    "Tom_grade = Grade(10, 20, 15)\n",
    "assert (Tom_grade.chinese == 10), '請檢查宣告的chinese'\n",
    "assert (Tom_grade.english == 20), '請檢查宣告的english'\n",
    "assert (Tom_grade.math == 15), '請檢查宣告的math'\n",
    "assert (Tom_grade.sum_grade() == 45), '請檢查sum 的公式'\n",
    "assert (Tom_grade.max_grade() == 20), '請檢查max_grade 的公式'\n",
    "\n",
    "print(f'Tom_grade chinese = {Tom_grade.chinese}')\n",
    "print(f'Tom_grade english = {Tom_grade.english}')\n",
    "print(f'Tom_grade math = {Tom_grade.math}')\n",
    "print(f'Tom_grade.sum_grade() = {Tom_grade.sum_grade()}')\n",
    "print(f'Congrets ! You pass the exam')"
   ]
  },
  {
   "cell_type": "markdown",
   "metadata": {},
   "source": [
    "# 3. Homework\n",
    "\n",
    "請寫出一個名為 student_ID 的class 物件，裡面可以存放姓名(Name), 學號(ID), 性別(Gender) 三種變數。並設計一個函數 print_inform() 可以印出\n",
    "    \n",
    "    The student's name is + 姓名, with his/her student ID : XXXXX\n",
    "\n",
    "舉例來說，我們可以輸入\n",
    "    \n",
    "    Tom_ID = student_ID(Tom, 108022343, Male)\n",
    "\n",
    "然後我們調用\n",
    "    \n",
    "    Tom_ID.print_inform()\n",
    "\n",
    "會印出\n",
    "    \n",
    "    The student's name is Tom, with his student ID : 108022343\n",
    "\n",
    "**請注意，his/her需要自行判斷**, Gender 只會輸入 Male/Female"
   ]
  },
  {
   "cell_type": "code",
   "execution_count": 1,
   "metadata": {},
   "outputs": [
    {
     "ename": "NameError",
     "evalue": "name 'student_ID' is not defined",
     "output_type": "error",
     "traceback": [
      "\u001b[1;31m---------------------------------------------------------------------------\u001b[0m",
      "\u001b[1;31mNameError\u001b[0m                                 Traceback (most recent call last)",
      "\u001b[1;32m<ipython-input-1-984406f27f0a>\u001b[0m in \u001b[0;36m<module>\u001b[1;34m()\u001b[0m\n\u001b[0;32m     14\u001b[0m \u001b[1;31m### End of your code\u001b[0m\u001b[1;33m\u001b[0m\u001b[1;33m\u001b[0m\u001b[0m\n\u001b[0;32m     15\u001b[0m \u001b[1;33m\u001b[0m\u001b[0m\n\u001b[1;32m---> 16\u001b[1;33m \u001b[0mTom_ID\u001b[0m \u001b[1;33m=\u001b[0m \u001b[0mstudent_ID\u001b[0m\u001b[1;33m(\u001b[0m\u001b[1;34m'Tom'\u001b[0m\u001b[1;33m,\u001b[0m \u001b[1;36m108022343\u001b[0m\u001b[1;33m,\u001b[0m \u001b[1;34m'Male'\u001b[0m\u001b[1;33m)\u001b[0m\u001b[1;33m\u001b[0m\u001b[0m\n\u001b[0m\u001b[0;32m     17\u001b[0m \u001b[1;32massert\u001b[0m \u001b[0mTom_ID\u001b[0m\u001b[1;33m.\u001b[0m\u001b[0mName\u001b[0m \u001b[1;33m==\u001b[0m \u001b[1;34m'Tom'\u001b[0m\u001b[1;33m\u001b[0m\u001b[0m\n\u001b[0;32m     18\u001b[0m \u001b[1;32massert\u001b[0m \u001b[0mTom_ID\u001b[0m\u001b[1;33m.\u001b[0m\u001b[0mGender\u001b[0m \u001b[1;33m==\u001b[0m \u001b[1;34m'Male'\u001b[0m\u001b[1;33m\u001b[0m\u001b[0m\n",
      "\u001b[1;31mNameError\u001b[0m: name 'student_ID' is not defined"
     ]
    }
   ],
   "source": [
    "### Your Code goes here\n",
    "\n",
    "\n",
    "\n",
    "\n",
    "\n",
    "\n",
    "\n",
    "\n",
    "\n",
    "        \n",
    "\n",
    "\n",
    "### End of your code\n",
    "\n",
    "Tom_ID = student_ID('Tom', 108022343, 'Male')\n",
    "assert Tom_ID.Name == 'Tom'\n",
    "assert Tom_ID.Gender == 'Male'\n",
    "assert Tom_ID.ID == 108022343\n",
    "Anne_ID = student_ID('Anne', 108022343, 'Female')\n",
    "Anne_ID.print_inform()"
   ]
  },
  {
   "cell_type": "markdown",
   "metadata": {},
   "source": [
    "這時應該要印出:  \n",
    "    \n",
    "    The student 's name is Anne, with her student ID : 108022343"
   ]
  },
  {
   "cell_type": "code",
   "execution_count": null,
   "metadata": {},
   "outputs": [],
   "source": []
  }
 ],
 "metadata": {
  "kernelspec": {
   "display_name": "Python 3",
   "language": "python",
   "name": "python3"
  },
  "language_info": {
   "codemirror_mode": {
    "name": "ipython",
    "version": 3
   },
   "file_extension": ".py",
   "mimetype": "text/x-python",
   "name": "python",
   "nbconvert_exporter": "python",
   "pygments_lexer": "ipython3",
   "version": "3.7.0"
  }
 },
 "nbformat": 4,
 "nbformat_minor": 2
}
