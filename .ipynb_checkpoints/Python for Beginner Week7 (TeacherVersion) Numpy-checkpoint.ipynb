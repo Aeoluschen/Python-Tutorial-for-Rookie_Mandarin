{
 "cells": [
  {
   "cell_type": "markdown",
   "metadata": {},
   "source": [
    "# Python 初學 Week7  Numpy"
   ]
  },
  {
   "cell_type": "markdown",
   "metadata": {},
   "source": [
    "## 1. Numpy\n",
    "\n",
    "Numpy 為一個python 的宏包，提供了一連串的矩陣運算、數值運算等線性代數的功能，在資料科學與人工智慧上非常常用。\n",
    "\n",
    "一開始我們需要引入Numpy 宏包，以\n",
    "    \n",
    "    import Numpy as np  #引入 Numpy 宏包並用 np 作為簡寫\n",
    "    \n",
    "### 1.1 Numpy array \n",
    "\n",
    "Numpy array 為 numpy 中的一種 class, 可以把它想像成 numpy 專用的矩陣形式，在一開始宣告 numpy arrar 有幾種方法:\n",
    "     \n",
    "     1. np.array([0, 1, 2, 3]) #建立一個 [0, 1, 2, 3] 的 Numpy array\n",
    "     2. np.array(ListA) #將已存在的List A 轉成 Numpy array\n",
    "     3. np.arange(a, b, c) #建立一個從 a 開始， b 結束，間隔為 c 的 Numpy array\n",
    "     4. np.linspace(a, b, c) #建立一個從 a 開始， b 結束，共有 c 個數 Numpy array\n",
    "     5. np.eye(a) #建立一個 a $\\times$ a的 單位矩陣\n",
    "     6. np.random.random((a,b)) #建立一個 a $\\times$ b 的隨機矩陣, 其中的值在 [0,1) 之間\n",
    "     6. np.random.randint(a, b, c) #建立一個 a ~ b 的整數隨機矩陣, 矩陣大小為c"
   ]
  },
  {
   "cell_type": "code",
   "execution_count": 44,
   "metadata": {},
   "outputs": [
    {
     "name": "stdout",
     "output_type": "stream",
     "text": [
      "建立一個0~50的隨機矩陣，矩陣大小為(2,3) : [[31 40 41]\n",
      " [48  5 24]]\n"
     ]
    }
   ],
   "source": [
    "import numpy as np \n",
    "np.eye(3)\n",
    "np.random.random((2,3))\n",
    "print(f'建立一個0~50的隨機矩陣，矩陣大小為(2,3) : {np.random.randint(0, 50, (2,3))}')\n"
   ]
  },
  {
   "cell_type": "markdown",
   "metadata": {},
   "source": [
    "### 1.2 矩陣性質\n",
    "\n",
    "在建立好numpy 中我們可以利用以下函數這個矩陣的性質，像是大小、長度、維度...\n",
    "\n",
    "    1. np.shape(A) #求出A陣列的維度\n",
    "    2. len(A) #求出A陣列的列數/元素個數(當A為一維時)\n",
    "    3. np.size(A) #求出A陣列所包含的元素個數\n",
    "    \n",
    "***要注意如果 A 是 一維， 他的 size 會是 (A,) , 而不是 (A,1) 這樣在做矩陣乘法時很容易出現問題，我們常會使用 np.newaxis來補足維度**\n",
    "    \n",
    "    A_new = A[:, np.newaxis] #這樣會讓 A_new 變成 (A, 1) 維"
   ]
  },
  {
   "cell_type": "code",
   "execution_count": 23,
   "metadata": {},
   "outputs": [
    {
     "name": "stdout",
     "output_type": "stream",
     "text": [
      "(3,)\n",
      "3\n",
      "3\n",
      "將A 的維度(3,) 擴張成 (3, 1)\n"
     ]
    }
   ],
   "source": [
    "A = np.array([1,2,3])\n",
    "print(np.shape(A))\n",
    "print(len(A))\n",
    "print(np.size(A))\n",
    "\n",
    "A_new = A[:, np.newaxis]\n",
    "print(f'將A 的維度{np.shape(A)} 擴張成 {np.shape(A_new)}')"
   ]
  },
  {
   "cell_type": "markdown",
   "metadata": {},
   "source": [
    "### 1.3 矩陣運算\n",
    "Numpy 是一個常用來做矩陣運算的工具，以下是簡單常用的運算函式\n",
    "\n",
    "    1. np.dot(A, B) #將 A, B 兩陣列內積\n",
    "    2. np.sqrt(A) #將 A 陣列中的元素開根號\n",
    "    3. A.T #將 A 陣列取轉置"
   ]
  },
  {
   "cell_type": "code",
   "execution_count": 30,
   "metadata": {},
   "outputs": [
    {
     "name": "stdout",
     "output_type": "stream",
     "text": [
      "A dot B = 32\n",
      "A Transport = [[1 2 3]]\n",
      "[4 5 6]\n"
     ]
    }
   ],
   "source": [
    "A = np.array([1,2,3])\n",
    "B = np.array([4,5,6])\n",
    "print(f'A dot B = {np.dot(A,B)}')\n",
    "print(f'A Transport = {A[:,np.newaxis].T}')\n",
    "C = np.array([[4,5,6], [1,2,3]])"
   ]
  },
  {
   "cell_type": "markdown",
   "metadata": {},
   "source": [
    "### 1.4 最大值最小值\n",
    "\n",
    "    1. np.max(A, axis = d) #沿著 d 維的最大值 axis = 0: 列方向, axis = 1: 行方向\n",
    "    2. np.min(A, axis = d) #沿著 d 維的最小值\n",
    "    2. np.mean(A, axis = d) #沿著 d 維的平均"
   ]
  },
  {
   "cell_type": "code",
   "execution_count": 39,
   "metadata": {},
   "outputs": [
    {
     "name": "stdout",
     "output_type": "stream",
     "text": [
      "C 中沿著列方向的最大值為 [4 8 6]\n",
      "C 中沿著行方向的最大值為 [6 8]\n",
      "C 中最大值為 8\n",
      "==========================================\n",
      "C 中沿著列方向的平均為 [2.5 4.5 4.5]\n",
      "C 中沿著行方向的平均為 [3.66666667 4.        ]\n",
      "C 中的平均為 3.8333333333333335\n"
     ]
    }
   ],
   "source": [
    "C = np.array([[4,1,6], [1,8,3]])\n",
    "print(f'C 中沿著列方向的最大值為 {np.max(C, 0)}')\n",
    "print(f'C 中沿著行方向的最大值為 {np.max(C, 1)}')\n",
    "print(f'C 中最大值為 {np.max(C)}')\n",
    "print(f'==========================================')\n",
    "print(f'C 中沿著列方向的平均為 {np.mean(C, 0)}')\n",
    "print(f'C 中沿著行方向的平均為 {np.mean(C, 1)}')\n",
    "print(f'C 中的平均為 {np.mean(C)}')"
   ]
  },
  {
   "cell_type": "markdown",
   "metadata": {},
   "source": [
    "# 2. Homework\n",
    "\n",
    "(1) 請建立一個$3 \\times 3$ 的numpy array A, 其元素值是隨機的 1~9 整數    \n",
    "(2) 請建立一個$3 \\times 3$ 的numpy array B, 其元素值為1~9  \n",
    "(3) 請算出 A 矩陣的平均值"
   ]
  },
  {
   "cell_type": "code",
   "execution_count": 23,
   "metadata": {},
   "outputs": [
    {
     "ename": "AssertionError",
     "evalue": "",
     "output_type": "error",
     "traceback": [
      "\u001b[1;31m---------------------------------------------------------------------------\u001b[0m",
      "\u001b[1;31mAssertionError\u001b[0m                            Traceback (most recent call last)",
      "\u001b[1;32m<ipython-input-23-60c2275f89c0>\u001b[0m in \u001b[0;36m<module>\u001b[1;34m()\u001b[0m\n\u001b[0;32m     10\u001b[0m \u001b[1;33m\u001b[0m\u001b[0m\n\u001b[0;32m     11\u001b[0m \u001b[1;31m### End of your code\u001b[0m\u001b[1;33m\u001b[0m\u001b[1;33m\u001b[0m\u001b[0m\n\u001b[1;32m---> 12\u001b[1;33m \u001b[1;32massert\u001b[0m \u001b[0mFibonacci\u001b[0m\u001b[1;33m(\u001b[0m\u001b[1;36m8\u001b[0m\u001b[1;33m)\u001b[0m \u001b[1;33m==\u001b[0m \u001b[1;36m21\u001b[0m\u001b[1;33m\u001b[0m\u001b[0m\n\u001b[0m",
      "\u001b[1;31mAssertionError\u001b[0m: "
     ]
    }
   ],
   "source": [
    "\n",
    "\n",
    "def Fibonacci(n):\n",
    "    \n",
    "### Your code starts here    \n",
    "    \n",
    "    \n",
    "    return \n",
    "\n",
    "\n",
    "### End of your code\n",
    "assert Fibonacci(8) == 21"
   ]
  },
  {
   "cell_type": "code",
   "execution_count": null,
   "metadata": {},
   "outputs": [],
   "source": []
  }
 ],
 "metadata": {
  "kernelspec": {
   "display_name": "Python 3",
   "language": "python",
   "name": "python3"
  },
  "language_info": {
   "codemirror_mode": {
    "name": "ipython",
    "version": 3
   },
   "file_extension": ".py",
   "mimetype": "text/x-python",
   "name": "python",
   "nbconvert_exporter": "python",
   "pygments_lexer": "ipython3",
   "version": "3.7.0"
  }
 },
 "nbformat": 4,
 "nbformat_minor": 2
}
