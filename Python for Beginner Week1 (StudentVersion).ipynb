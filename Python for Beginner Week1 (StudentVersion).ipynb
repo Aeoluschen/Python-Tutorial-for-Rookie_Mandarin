{
 "cells": [
  {
   "cell_type": "markdown",
   "metadata": {},
   "source": [
    "# Python 初學 Week1"
   ]
  },
  {
   "cell_type": "markdown",
   "metadata": {},
   "source": [
    "## 1. 資料型態\n",
    "\n",
    "一般程式語言提供多種資料型態，像是整數(int), 浮點數(float), 字元(char), 字串(string) 等等\n",
    "\n",
    "那在Python的語言中，不需要特別宣告變數的型態，只需要賦予變數的值就等同於進行宣告，例如:\n",
    "\n",
    "    i = 5\n",
    "    \n",
    "是在宣告一個叫做 i 的變數，他的值為5\n",
    "\n",
    "    f = 3.414\n",
    "    \n",
    "是在宣告一個叫做 f 的變數，他的值為3.414\n",
    "\n",
    "    s = \"Hi Hi\"\n",
    "\n",
    "則是在宣告一個叫做 s 的變數，他的值為 Hi Hi\n",
    "(那在字串上的宣告上，需要使用雙引號 \" \")"
   ]
  },
  {
   "cell_type": "code",
   "execution_count": 9,
   "metadata": {},
   "outputs": [],
   "source": [
    "# Q: 試著宣告三個變數 a, b, c，分別為 10, 8.32, Hello_World\n",
    "\n",
    "### Your Code goes Here\n",
    "\n",
    "\n",
    "\n",
    "\n",
    "### End Of Your Codes \n",
    "\n",
    "#===========================================\n",
    "\n",
    "assert a == 10, \"a 變數宣告錯了\"\n",
    "assert b == 8.32, \"b 變數宣告錯了\"\n",
    "assert c == \"Hello_World\", \"c 變數宣告錯了\""
   ]
  },
  {
   "cell_type": "markdown",
   "metadata": {},
   "source": [
    "### 重新賦予變數值\n",
    "\n",
    "當我們宣告變數a 的值之後，我們可以再次給予a 值或是對a 值進行運算\n",
    "    \n",
    "    a = 1  #將a值給定為1\n",
    "    a = 2  #將a值重新指定為2\n",
    "    a = a + 1 #將a值給定為a+1 也就是 3\n",
    "    \n",
    "注意，在程式中，等號右邊的值會給予等號左邊的值，所以以下運算是不被允許的\n",
    "\n",
    "    a + 2 = a #是不被允許的\n",
    "    \n",
    " "
   ]
  },
  {
   "cell_type": "markdown",
   "metadata": {},
   "source": [
    "## 2. Print() 函式\n",
    "\n",
    "那一般來說變數是存在電腦中的，我們如果想要看到變數的值，就需要將他列印(print)出來，所謂print也就是把變數的值在電腦上顯現出來。\n",
    "\n",
    "print()這個函式是Python 所提供用來將資料印出來的函式，他最簡單的用法如下\n",
    "\n",
    "    print(變數名稱) \n",
    "\n",
    "會將變數的值印出來\n",
    "\n",
    "    print(\"字串\")\n",
    "    \n",
    "會將這個字串印出來\n",
    "\n",
    "舉例: :"
   ]
  },
  {
   "cell_type": "code",
   "execution_count": 14,
   "metadata": {},
   "outputs": [
    {
     "name": "stdout",
     "output_type": "stream",
     "text": [
      "Hello World\n",
      "Hello World\n"
     ]
    }
   ],
   "source": [
    "ex_a = \"Hello World\" #新增一個變數 ex_a，其值為 Hello World\n",
    "print(ex_a) #印出ex_a\n",
    "#也可以使用 Print(\"字串\") 來印出字串\n",
    "print(\"Hello World\")"
   ]
  },
  {
   "cell_type": "code",
   "execution_count": null,
   "metadata": {},
   "outputs": [],
   "source": [
    "#Q: 在剛剛我們已經宣告了變數a, b, c, 現在請你將這些變數印出來\n",
    "\n",
    "### Your Code goes Here\n",
    "\n",
    "\n",
    "\n",
    "### End Of Your Codes "
   ]
  },
  {
   "cell_type": "markdown",
   "metadata": {},
   "source": [
    "### 進階用法 Print( f' )\n",
    "\n",
    "如果想要在Print 中同時輸入一行字又有變數的話，Python 3.6 之後新建了新的功能:\n",
    "    \n",
    "    Print(f' 字串 {變數}' )\n",
    " \n",
    "就會印出字串與變數的值。\n",
    "    \n",
    "    x =  19.2\n",
    "    Print(f' My BMI is {x}' )\n",
    "    \n",
    " 出來的結果就會是\n",
    " \n",
    "     My BMI is 19.2"
   ]
  },
  {
   "cell_type": "code",
   "execution_count": 24,
   "metadata": {},
   "outputs": [
    {
     "name": "stdout",
     "output_type": "stream",
     "text": [
      " My BMI is 21.2\n"
     ]
    }
   ],
   "source": [
    "x = 21.2\n",
    "print(f' My BMI is {x}')"
   ]
  },
  {
   "cell_type": "markdown",
   "metadata": {},
   "source": [
    "# 3. type() 函式\n",
    "那如果有一個變數我們不知道他的型態，python提供了type()函式，那這個函式會回饋出變數的資料型態 (這個在當資料型態非常複雜時很容易用到)\n",
    "\n",
    "    type(變數) \n",
    "\n",
    "舉例: 剛剛我們有用一個變數 ex_a, 想知道這個變數型態我們就可以使用"
   ]
  },
  {
   "cell_type": "code",
   "execution_count": 13,
   "metadata": {},
   "outputs": [
    {
     "data": {
      "text/plain": [
       "str"
      ]
     },
     "execution_count": 13,
     "metadata": {},
     "output_type": "execute_result"
    }
   ],
   "source": [
    "type(ex_a)"
   ]
  },
  {
   "cell_type": "code",
   "execution_count": null,
   "metadata": {},
   "outputs": [],
   "source": [
    "#Q: 請將剛剛的a, b ,c 變數型態列印出來\n",
    "\n",
    "### Your Code goes Here\n",
    "\n",
    "\n",
    "\n",
    "### End Of Your Codes "
   ]
  },
  {
   "cell_type": "markdown",
   "metadata": {},
   "source": [
    "# 4. 簡易運算子\n",
    "\n",
    "那在 Python 中可以對 \"同樣資料型態\" 的變數進行運算，一般運算的運算子有以下幾種\n",
    "\n",
    "    x + y # 加法運算\n",
    "    x - y # 減法運算\n",
    "    x * y # 乘法運算\n",
    "    x / y # x除以y\n",
    "    x // y # x除以y 的整數解\n",
    "    x % y # x除以y的餘數\n",
    "    x ** y # x的y次方\n",
    "    \n",
    "    \n",
    "那以下就是簡單的舉例"
   ]
  },
  {
   "cell_type": "code",
   "execution_count": 28,
   "metadata": {},
   "outputs": [
    {
     "name": "stdout",
     "output_type": "stream",
     "text": [
      " x + y = 23\n",
      " x / y = 6.666666666666667\n",
      " x // y = 6\n",
      " x % y = 2\n"
     ]
    }
   ],
   "source": [
    "x = 20\n",
    "y = 3\n",
    "print(f' x + y = {x + y}')\n",
    "print(f' x / y = {x / y}')\n",
    "print(f' x // y = {x // y}')\n",
    "print(f' x % y = {x % y}')\n"
   ]
  },
  {
   "cell_type": "code",
   "execution_count": 32,
   "metadata": {},
   "outputs": [
    {
     "name": "stdout",
     "output_type": "stream",
     "text": [
      "小明的 BMI 為 22.453287197231838\n"
     ]
    },
    {
     "ename": "AssertionError",
     "evalue": "BMI 計算有錯",
     "output_type": "error",
     "traceback": [
      "\u001b[1;31m---------------------------------------------------------------------------\u001b[0m",
      "\u001b[1;31mAssertionError\u001b[0m                            Traceback (most recent call last)",
      "\u001b[1;32m<ipython-input-32-d1736d125a82>\u001b[0m in \u001b[0;36m<module>\u001b[1;34m()\u001b[0m\n\u001b[0;32m     19\u001b[0m \u001b[1;32massert\u001b[0m \u001b[0mheight\u001b[0m \u001b[1;33m==\u001b[0m \u001b[1;36m170\u001b[0m\u001b[1;33m,\u001b[0m \u001b[1;34m\"身高填錯了\"\u001b[0m\u001b[1;33m\u001b[0m\u001b[0m\n\u001b[0;32m     20\u001b[0m \u001b[1;32massert\u001b[0m \u001b[0mweight\u001b[0m \u001b[1;33m==\u001b[0m \u001b[1;36m62\u001b[0m\u001b[1;33m,\u001b[0m \u001b[1;34m\"體重填錯了\"\u001b[0m\u001b[1;33m\u001b[0m\u001b[0m\n\u001b[1;32m---> 21\u001b[1;33m \u001b[1;32massert\u001b[0m \u001b[0mBMI\u001b[0m \u001b[1;33m==\u001b[0m \u001b[1;33m(\u001b[0m\u001b[1;36m62\u001b[0m\u001b[1;33m/\u001b[0m\u001b[1;33m(\u001b[0m\u001b[1;33m(\u001b[0m\u001b[0mheight\u001b[0m\u001b[1;33m/\u001b[0m\u001b[1;36m100\u001b[0m\u001b[1;33m)\u001b[0m\u001b[1;33m**\u001b[0m\u001b[1;36m2\u001b[0m\u001b[1;33m)\u001b[0m\u001b[1;33m)\u001b[0m\u001b[1;33m,\u001b[0m \u001b[1;34m\"BMI 計算有錯\"\u001b[0m\u001b[1;33m\u001b[0m\u001b[0m\n\u001b[0m",
      "\u001b[1;31mAssertionError\u001b[0m: BMI 計算有錯"
     ]
    }
   ],
   "source": [
    "#Q: 已知小明身高 170, 體重 62 公斤，請\n",
    "#(1)身高 存在 height 變數中\n",
    "\n",
    "#將體重存在 weight變數中\n",
    "\n",
    "#算出小明的BMI，存在 BMI 這個變數中\n",
    "\n",
    "#印出 \"小明的 BMI 為 {你算的結果} \"\n",
    "\n",
    "### Your Code goes Here\n",
    "\n",
    "\n",
    "\n",
    "\n",
    "### End Of Your Codes \n",
    "\n",
    "\n",
    "#=======================================================\n",
    "assert height == 170, \"身高填錯了\"\n",
    "assert weight == 62, \"體重填錯了\"\n",
    "assert BMI == (weight/((height/100)**2)), \"BMI 計算有錯\""
   ]
  },
  {
   "cell_type": "markdown",
   "metadata": {},
   "source": [
    "## 5. 使用者輸入函式 Input()\n",
    "\n",
    "如果我們想讓使用者輸入特定量值，我們可以利用input()函數去存取使用者輸入的東西\n",
    "    \n",
    "    變數 = input(\"提示字元\")\n",
    "    \n",
    "可以將使用者輸入的東西存在變數中，提示字元也可以為空\n",
    "請特別注意，使用者輸入的東西皆會被存為 字串(string)型態\n",
    "如果要將 字串(string) 轉變為 整數(int) 或是 浮點數(float) 需要使用以下的公式\n",
    "\n",
    "    整數變數 = int(變數)\n",
    "    浮點變數 = float(變數)\n",
    "\n",
    "也可以將整數或是浮點變數轉變為字串\n",
    "\n",
    "    字串變數 = string(變數)\n",
    "    \n"
   ]
  },
  {
   "cell_type": "code",
   "execution_count": 1,
   "metadata": {},
   "outputs": [
    {
     "name": "stdout",
     "output_type": "stream",
     "text": [
      "請輸入您的身高180\n"
     ]
    }
   ],
   "source": [
    "height = input(\"請輸入您的身高\") #將使用者輸入的值存到height這個變數中"
   ]
  },
  {
   "cell_type": "code",
   "execution_count": 2,
   "metadata": {},
   "outputs": [
    {
     "name": "stdout",
     "output_type": "stream",
     "text": [
      "您的身高是 180 公分\n"
     ]
    }
   ],
   "source": [
    "print(f'您的身高是 {height} 公分') #將 height 印出來"
   ]
  },
  {
   "cell_type": "code",
   "execution_count": 6,
   "metadata": {},
   "outputs": [
    {
     "name": "stdout",
     "output_type": "stream",
     "text": [
      "請輸入您的身高(cm)180\n",
      "您的身高為 180 公尺\n"
     ]
    }
   ],
   "source": [
    "#Q 請建立一個單位轉換器，讓使用者輸入以公分為單位的身高，然後回報他以公尺為單位的身高\n",
    "\n",
    "### Your Code goes Here\n",
    "\n",
    "\n",
    "### End Of Your Codes "
   ]
  },
  {
   "cell_type": "code",
   "execution_count": 7,
   "metadata": {},
   "outputs": [
    {
     "name": "stdout",
     "output_type": "stream",
     "text": [
      "請輸入您的身高190\n",
      "請輸入您的體重90\n",
      "您的BMI為 24.930747922437675\n"
     ]
    }
   ],
   "source": [
    "#Q: 現在想建立一個 BMI 計算器，讓使用者輸入身高與體重後會自動跑出 BMI 值\n",
    "\n",
    "#需要有一開始的詢問身高、體重的問句\n",
    "\n",
    "#請試著實作看看，並將身高存在 height 變數，體重存在 weight 變數，BMI值存在BMI 變數\n",
    "\n",
    "### Your Code goes Here\n",
    "\n",
    "\n",
    "\n",
    "\n",
    "### End Of Your Codes \n",
    "\n",
    "assert BMI == (weight/((height/100)**2)), \"BMI 計算有錯\""
   ]
  },
  {
   "cell_type": "markdown",
   "metadata": {},
   "source": [
    "# 6. Homework\n",
    "\n",
    "小明想請你幫他算他的段考成績，請建立一個成績詢問器，用 \"請問您的國文成績為?\"、\"請問您的英文成績為?\"、\"請問您的數學成績為?\" 來詢問小明的成績\n",
    "\n",
    "小明告訴你他的國英數成績分別為 85.2 90 75.3\n",
    "\n",
    "請算出小明的平均之後存在名為 grade 的變數中\n",
    "\n",
    "最後印出:\n",
    "    \n",
    "    您的平均為XXX分\n",
    "    \n",
    " "
   ]
  },
  {
   "cell_type": "code",
   "execution_count": 9,
   "metadata": {},
   "outputs": [
    {
     "name": "stdout",
     "output_type": "stream",
     "text": [
      "請問您的國文成績為?85.2\n",
      "請問您的英文成績為?90\n",
      "請問您的數學成績為?75.3\n",
      "您的平均為 83.5分\n"
     ]
    }
   ],
   "source": [
    "### Your Code goes Here\n",
    "\n",
    "\n",
    "\n",
    "\n",
    "\n",
    "### End Of Your Codes\n",
    "assert grade == (85.2+90+75.3)/3"
   ]
  }
 ],
 "metadata": {
  "kernelspec": {
   "display_name": "Python 3",
   "language": "python",
   "name": "python3"
  },
  "language_info": {
   "codemirror_mode": {
    "name": "ipython",
    "version": 3
   },
   "file_extension": ".py",
   "mimetype": "text/x-python",
   "name": "python",
   "nbconvert_exporter": "python",
   "pygments_lexer": "ipython3",
   "version": "3.7.0"
  }
 },
 "nbformat": 4,
 "nbformat_minor": 2
}
